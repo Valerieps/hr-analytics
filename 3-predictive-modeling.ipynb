{
 "cells": [
  {
   "cell_type": "markdown",
   "metadata": {},
   "source": [
    "## 3. Modelos Preditivos"
   ]
  },
  {
   "cell_type": "code",
   "execution_count": 1,
   "metadata": {},
   "outputs": [
    {
     "name": "stderr",
     "output_type": "stream",
     "text": [
      "/home/valeriaps/miniconda3/lib/python3.7/site-packages/statsmodels/tools/_testing.py:19: FutureWarning: pandas.util.testing is deprecated. Use the functions in the public API at pandas.testing instead.\n",
      "  import pandas.util.testing as tm\n"
     ]
    }
   ],
   "source": [
    "import pandas as pd\n",
    "import matplotlib.pyplot as plt\n",
    "import numpy as np\n",
    "from tqdm import tqdm_notebook as tqdm\n",
    "from sklearn.preprocessing import OneHotEncoder\n",
    "from sklearn.preprocessing import minmax_scale\n",
    "from sklearn.naive_bayes import GaussianNB\n",
    "from sklearn.svm import SVC\n",
    "from sklearn.model_selection import KFold\n",
    "from sklearn.tree import DecisionTreeClassifier\n",
    "from sklearn.neighbors import KNeighborsClassifier\n",
    "from sklearn.ensemble import RandomForestClassifier, GradientBoostingClassifier\n",
    "from sklearn.metrics import accuracy_score, precision_score, recall_score, f1_score, roc_curve, auc\n",
    "from pandas_profiling import ProfileReport"
   ]
  },
  {
   "cell_type": "code",
   "execution_count": 16,
   "metadata": {},
   "outputs": [],
   "source": [
    "class Experiment():\n",
    "    def __init__(self):\n",
    "\n",
    "        self.X_train, self.X_test = [], []\n",
    "        self.y_train, self.y_test = [], []\n",
    "        self.train_index, self.test_index = [], []\n",
    "        self.train_pred, self.test_pred = [], []\n",
    "        self.clf = None\n",
    "        self.accuracy_train, self.accuracy_test = [], []\n",
    "        self.precision_train, self.precision_test = [], []\n",
    "        self.recall_train, self.recall_test = [], []\n",
    "        self.f1_train, self.f1_test = [], []\n",
    "        \n",
    "        self.mean_accuracy_train = 0\n",
    "        self.mean_accuracy_test = 0\n",
    "        self.mean_precision_train = 0\n",
    "        self.mean_precision_test = 0\n",
    "        self.mean_recall_train = 0\n",
    "        self.mean_recall_test = 0\n",
    "        self.mean_f1_train = 0\n",
    "        self.mean_f1_test = 0\n",
    "        \n",
    "        self.fpr_fold = []\n",
    "        self.tpr_fold = []\n",
    "        self.mean_fpr = 0\n",
    "        self.mean_tpr = 0\n",
    "        self.test_pred_proba=0\n",
    "\n",
    "    def run_naive_bayes(self):\n",
    "        for self.train_index, self.test_index in self.get_folds():\n",
    "            self.slice_fold()            \n",
    "            self.clf = GaussianNB()\n",
    "            self.clf = self.clf.fit(self.X_train, self.y_train)\n",
    "            self.get_predictions(self.clf)\n",
    "            self.get_metrics_per_fold()\n",
    "        self.get_means()\n",
    "    \n",
    "    def run_decision_tree(self, depth):\n",
    "        mean_fpr = np.linspace(0,1,100)\n",
    "        for self.train_index, self.test_index in self.get_folds():\n",
    "            self.slice_fold()            \n",
    "            self.clf = DecisionTreeClassifier(max_depth=depth)\n",
    "            self.clf = self.clf.fit(self.X_train, self.y_train)\n",
    "            self.get_predictions(self.clf)\n",
    "            self.get_metrics_per_fold()\n",
    "        self.get_means()\n",
    "                      \n",
    "    def get_folds(self):\n",
    "        kfold = KFold(N_FOLDS, True, 1)\n",
    "        return kfold.split(X)\n",
    "\n",
    "    def slice_fold(self):\n",
    "        global X\n",
    "        global y\n",
    "        self.X_train = X.iloc[self.train_index]\n",
    "        self.y_train = y[self.train_index]\n",
    "        \n",
    "        self.X_test = X.iloc[self.test_index]\n",
    "        self.y_test = y[self.test_index]\n",
    "         \n",
    "    def get_predictions(self, clf):\n",
    "        self.train_pred = clf.predict(self.X_train)\n",
    "        self.test_pred = clf.predict(self.X_test)\n",
    "        \n",
    "    def get_metrics_per_fold(self):\n",
    "        self.accuracy_train.append(accuracy_score(self.y_train, self.train_pred))\n",
    "        self.accuracy_test.append(accuracy_score(self.y_test, self.test_pred))\n",
    "        \n",
    "        self.precision_train.append(precision_score(self.y_train, self.train_pred))\n",
    "        self.precision_test.append(precision_score(self.y_test, self.test_pred))\n",
    "        \n",
    "        self.recall_train.append(recall_score(self.y_train, self.train_pred))\n",
    "        self.recall_test.append(recall_score(self.y_test, self.test_pred))\n",
    "        \n",
    "        self.f1_train.append(f1_score(self.y_train, self.train_pred))\n",
    "        self.f1_test.append(f1_score(self.y_test, self.test_pred))\n",
    "            \n",
    "    def get_means(self):\n",
    "        self.mean_accuracy_train = np.mean(self.accuracy_train)\n",
    "        self.mean_accuracy_test = np.mean(self.accuracy_test)\n",
    "        self.mean_precision_train = np.mean(self.precision_train)\n",
    "        self.mean_precision_test = np.mean(self.precision_test)\n",
    "        self.mean_recall_train = np.mean(self.recall_train)\n",
    "        self.mean_recall_test = np.mean(self.recall_test)\n",
    "        self.mean_f1_train = np.mean(self.f1_train)\n",
    "        self.mean_f1_test = np.mean(self.f1_test)\n",
    "#         self.mean_fpr = np.mean(self.fpr_fold)\n",
    "#         self.mean_tpr = np.mean(self.tpr_fold)\n",
    "        \n",
    "    def print_results(self):\n",
    "        print(\"Train\")\n",
    "        print(\"  Accuracy: {:.3f}\".format(self.mean_accuracy_train))\n",
    "        print(\"  Precision: {:.3f}\".format(self.mean_precision_train))\n",
    "        print(\"  Recall: {:.3f}\".format(self.mean_recall_train))\n",
    "        print(\"  f1: {:.3f}\".format(self.mean_f1_train))\n",
    "\n",
    "        print()\n",
    "        \n",
    "        print(\"Test\")\n",
    "        print(\"  Accuracy: {:.3f}\".format(self.mean_accuracy_test))\n",
    "        print(\"  Precision: {:.3f}\".format(self.mean_precision_test))\n",
    "        print(\"  Recall: {:.3f}\".format(self.mean_recall_test))\n",
    "        print(\"  f1: {:.3f}\".format(self.mean_f1_test))\n",
    "\n",
    "def save_results(objeto, metrics = {}):\n",
    "    \"\"\" \n",
    "    Função auxiliar que salva resultados de muitos experimentos\n",
    "    \"\"\"    \n",
    "    metrics['accuracy_train'].append(objeto.mean_accuracy_train)\n",
    "    metrics['accuracy_test'].append(objeto.mean_accuracy_test)\n",
    "                            \n",
    "    metrics['precision_train'].append(objeto.mean_precision_train)\n",
    "    metrics['precision_test'].append(objeto.mean_precision_test)\n",
    "    \n",
    "    metrics['recall_train'].append(objeto.mean_recall_train)\n",
    "    metrics['recall_test'].append(objeto.mean_recall_test)\n",
    "    \n",
    "    metrics['f1_train'].append(objeto.mean_f1_train)\n",
    "    metrics['f1_test'].append(objeto.mean_f1_test)\n",
    "  \n",
    "    return metrics\n",
    "\n",
    "def plot_results(x, metrics, baseline, name='Decision Tree', parameter='Altura'):\n",
    "    \n",
    "    plt.subplot()\n",
    "    plt.title(name + ' - ACCURACY')\n",
    "    plt.xlabel(parameter)\n",
    "    plt.ylabel('Accuracy')\n",
    "    plt.axhline(baseline.mean_accuracy_test, linestyle='--', color='grey')\n",
    "    plt.plot(x, metrics['accuracy_train'], label = 'treino')\n",
    "    plt.plot(x, metrics['accuracy_test'], label = 'teste')\n",
    "    plt.legend(loc='best')\n",
    "    plt.show()\n",
    "\n",
    "    plt.subplot()\n",
    "    plt.title(name + ' - F1 SCORE')\n",
    "    plt.xlabel(parameter)\n",
    "    plt.ylabel('f1 score')\n",
    "    plt.axhline(baseline.mean_f1_test, linestyle='--', color='grey')\n",
    "    plt.plot(x, metrics['f1_train'], label = 'treino')\n",
    "    plt.plot(x, metrics['f1_test'], label = 'teste')\n",
    "    plt.legend(loc='best')\n",
    "    plt.show()"
   ]
  },
  {
   "cell_type": "code",
   "execution_count": 3,
   "metadata": {},
   "outputs": [],
   "source": [
    "TARGET = \"left_Company\"\n",
    "N_FOLDS = 5"
   ]
  },
  {
   "cell_type": "code",
   "execution_count": 4,
   "metadata": {},
   "outputs": [],
   "source": [
    "X = pd.read_hdf('data/data.h5', key='X_clean')\n",
    "y = X[TARGET]\n",
    "X = X.drop(columns=[TARGET])"
   ]
  },
  {
   "cell_type": "markdown",
   "metadata": {},
   "source": [
    "## Encoding"
   ]
  },
  {
   "cell_type": "code",
   "execution_count": 5,
   "metadata": {},
   "outputs": [],
   "source": [
    "encoder = OneHotEncoder()\n",
    "X = pd.DataFrame(encoder.fit_transform(X).toarray())"
   ]
  },
  {
   "cell_type": "markdown",
   "metadata": {},
   "source": [
    "X = encoder.transform()"
   ]
  },
  {
   "cell_type": "code",
   "execution_count": 8,
   "metadata": {},
   "outputs": [],
   "source": [
    "y = np.array(y)"
   ]
  },
  {
   "cell_type": "code",
   "execution_count": 9,
   "metadata": {},
   "outputs": [
    {
     "data": {
      "text/plain": [
       "array([0, 0, 0, ..., 1, 1, 1])"
      ]
     },
     "execution_count": 9,
     "metadata": {},
     "output_type": "execute_result"
    }
   ],
   "source": [
    "y"
   ]
  },
  {
   "cell_type": "markdown",
   "metadata": {},
   "source": [
    "## Naive Bayes"
   ]
  },
  {
   "cell_type": "markdown",
   "metadata": {},
   "source": [
    "Foi utlizada a implementação Gaussian Naive Bayes."
   ]
  },
  {
   "cell_type": "code",
   "execution_count": 18,
   "metadata": {},
   "outputs": [
    {
     "name": "stdout",
     "output_type": "stream",
     "text": [
      "Train\n",
      "  Accuracy: 0.838\n",
      "  Precision: 0.597\n",
      "  Recall: 0.983\n",
      "  f1: 0.743\n",
      "\n",
      "Test\n",
      "  Accuracy: 0.835\n",
      "  Precision: 0.593\n",
      "  Recall: 0.977\n",
      "  f1: 0.738\n"
     ]
    }
   ],
   "source": [
    "baseline = Experiment()\n",
    "baseline.run_naive_bayes()\n",
    "baseline.print_results()"
   ]
  },
  {
   "cell_type": "markdown",
   "metadata": {},
   "source": [
    "## Decision Tree"
   ]
  },
  {
   "cell_type": "code",
   "execution_count": 13,
   "metadata": {},
   "outputs": [],
   "source": [
    "metrics_dt={\n",
    "    'accuracy_train':[],\n",
    "    'precision_train':[],\n",
    "    'recall_train':[],\n",
    "    'f1_train':[],\n",
    "    'accuracy_test':[],\n",
    "    'precision_test':[],\n",
    "    'recall_test':[],\n",
    "    'f1_test':[]\n",
    "}"
   ]
  },
  {
   "cell_type": "code",
   "execution_count": 14,
   "metadata": {},
   "outputs": [],
   "source": [
    "espaco_de_busca_dt = range(1, 30+1) "
   ]
  },
  {
   "cell_type": "code",
   "execution_count": 21,
   "metadata": {},
   "outputs": [
    {
     "name": "stderr",
     "output_type": "stream",
     "text": [
      "/home/valeriaps/miniconda3/lib/python3.7/site-packages/ipykernel_launcher.py:1: TqdmDeprecationWarning: This function will be removed in tqdm==5.0.0\n",
      "Please use `tqdm.notebook.tqdm` instead of `tqdm.tqdm_notebook`\n",
      "  \"\"\"Entry point for launching an IPython kernel.\n"
     ]
    },
    {
     "data": {
      "application/vnd.jupyter.widget-view+json": {
       "model_id": "66d0e323a30641229da72e4466a7513b",
       "version_major": 2,
       "version_minor": 0
      },
      "text/plain": [
       "HBox(children=(FloatProgress(value=0.0, max=30.0), HTML(value='')))"
      ]
     },
     "metadata": {},
     "output_type": "display_data"
    },
    {
     "name": "stdout",
     "output_type": "stream",
     "text": [
      "\n",
      "Train\n",
      "  Accuracy: 0.997\n",
      "  Precision: 0.987\n",
      "  Recall: 0.999\n",
      "  f1: 0.993\n",
      "\n",
      "Test\n",
      "  Accuracy: 0.978\n",
      "  Precision: 0.948\n",
      "  Recall: 0.960\n",
      "  f1: 0.954\n"
     ]
    }
   ],
   "source": [
    "for i in tqdm(espaco_de_busca_dt):\n",
    "    decision_tree = Experiment()\n",
    "    decision_tree.run_decision_tree(i)\n",
    "    metrics = save_results(decision_tree, metrics_dt)\n",
    "decision_tree.print_results()"
   ]
  },
  {
   "cell_type": "code",
   "execution_count": 19,
   "metadata": {},
   "outputs": [
    {
     "data": {
      "image/png": "[encoded data removed]",
      "text/plain": [
       "<Figure size 432x288 with 1 Axes>"
      ]
     },
     "metadata": {
      "needs_background": "light"
     },
     "output_type": "display_data"
    },
    {
     "data": {
      "image/png": "[encoded data removed]",
      "text/plain": [
       "<Figure size 432x288 with 1 Axes>"
      ]
     },
     "metadata": {
      "needs_background": "light"
     },
     "output_type": "display_data"
    }
   ],
   "source": [
    "plot_results(espaco_de_busca_dt, metrics_dt, baseline, name='Decision Tree', parameter='Altura')"
   ]
  },
  {
   "cell_type": "code",
   "execution_count": 20,
   "metadata": {},
   "outputs": [
    {
     "name": "stdout",
     "output_type": "stream",
     "text": [
      "Acurácia teste\n",
      "1 :0.812 \n",
      "2 :0.858 \n",
      "3 :0.896 \n",
      "4 :0.938 \n",
      "5 :0.947 \n",
      "6 :0.952 \n",
      "7 :0.963 \n",
      "8 :0.968 \n",
      "9 :0.972 \n",
      "10 :0.975 \n",
      "11 :0.976 \n",
      "12 :0.977 \n",
      "13 :0.978 \n",
      "14 :0.977 \n",
      "15 :0.978 \n",
      "16 :0.978 \n",
      "17 :0.978 \n",
      "18 :0.978 \n",
      "19 :0.979 \n",
      "20 :0.978 \n",
      "21 :0.978 \n",
      "22 :0.977 \n",
      "23 :0.978 \n",
      "24 :0.978 \n",
      "25 :0.978 \n",
      "26 :0.978 \n",
      "27 :0.978 \n",
      "28 :0.977 \n",
      "29 :0.978 \n",
      "30 :0.978 \n"
     ]
    }
   ],
   "source": [
    "print('Acurácia teste')\n",
    "for i in espaco_de_busca_dt:    \n",
    "    print(i, ':{:.3f} '.format(metrics['accuracy_test'][i-1]))"
   ]
  },
  {
   "cell_type": "markdown",
   "metadata": {},
   "source": [
    "**Análise do resultado**  \n",
    "* A Decision Tree tende a overfittar caso não seja podada adequandamente. POdemos ver que aproximadamente a partir da altura 10 ocorre o overfitting.\n",
    "* A acurácia de teste mostra que a partir da altura 9, o ganho é desconsiderável sendo preferível um modelo mais simples"
   ]
  }
 ],
 "metadata": {
  "kernelspec": {
   "display_name": "Python 3",
   "language": "python",
   "name": "python3"
  },
  "language_info": {
   "codemirror_mode": {
    "name": "ipython",
    "version": 3
   },
   "file_extension": ".py",
   "mimetype": "text/x-python",
   "name": "python",
   "nbconvert_exporter": "python",
   "pygments_lexer": "ipython3",
   "version": "3.7.3"
  }
 },
 "nbformat": 4,
 "nbformat_minor": 2
}
